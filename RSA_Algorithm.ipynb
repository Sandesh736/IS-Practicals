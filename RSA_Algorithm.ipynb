{
  "nbformat": 4,
  "nbformat_minor": 0,
  "metadata": {
    "colab": {
      "name": "RSA_Algorithm.ipynb",
      "provenance": [],
      "collapsed_sections": []
    },
    "kernelspec": {
      "name": "python3",
      "display_name": "Python 3"
    },
    "language_info": {
      "name": "python"
    }
  },
  "cells": [
    {
      "cell_type": "code",
      "execution_count": null,
      "metadata": {
        "colab": {
          "base_uri": "https://localhost:8080/"
        },
        "id": "3wd9NMBl-dln",
        "outputId": "3f67af7b-6f35-4320-b012-1f211ac7dbcd"
      },
      "outputs": [
        {
          "output_type": "stream",
          "name": "stdout",
          "text": [
            "53 59\n",
            "Hello world\n",
            "Encrypted (Cypher text) :  ѯ׮੢੢Ѭך଑Ѭ঩੢ষ\n",
            "Decrypted (Plain text) :  Hello world\n"
          ]
        }
      ],
      "source": [
        "'''First_Prime = 53\n",
        "Second_prime = 59\n",
        "e = 3\n",
        "\n",
        "def public_key():\n",
        "\n",
        "  n = First_Prime * Second_prime\n",
        "  print(\"Public Key: n =\",n,\"and e =\", e)\n",
        "\n",
        "\n",
        "def private_key():\n",
        "\n",
        "  phi_n = (First_Prime-1)*(Second_prime-1)\n",
        "  k = int(input(\"Enter any Integer:\"))\n",
        "  d = (k * phi_n + 1) / e\n",
        "  print(\"Private Key: d =\",d)\n",
        "\n",
        "Plain_text = input(\"Enter any String:\")\n",
        "dict = {\"A\":1,\"B\":2,\"C\":3,\"D\":4,\"E\":5,\"F\":6,\"G\":7,\"H\":8,\"I\":9,\"J\":10,\"K\":11,\"L\":12,\"M\":13,\n",
        "        \"N\":14,\"O\":15,\"P\":16,\"Q\":17,\"R\":18,\"S\":19,\"T\":20,\"U\":21,\"V\":22,\"W\":23,\"X\":24,\"Y\":25,\"Z\":26}\n",
        "str1 =\"\"\n",
        "for i in Plain_text:\n",
        "  VAR = str(dict[str(i)])\n",
        "  str1+=VAR\n",
        "print(str1)\n",
        "#public_key()\n",
        "#private_key()'''\n",
        "\n",
        "def rsa_algo(p: int,q: int, msg: str):\n",
        "    # n = pq\n",
        "    n = p * q\n",
        "    # z = (p-1)(q-1)\n",
        "    z = (p-1)*(q-1)\n",
        "\n",
        "    # e -> gcd(e,z)==1      ; 1 < e < z\n",
        "    # d -> ed = 1(mod z)        ; 1 < d < z\n",
        "    e = find_e(z)\n",
        "    d = find_d(e, z)\n",
        "\n",
        "    # Convert Plain Text -> Cypher Text\n",
        "    cypher_text = ''\n",
        "    # C = (P ^ e) % n\n",
        "    for ch in msg:\n",
        "        # convert the Character to ascii (ord)\n",
        "        ch = ord(ch)\n",
        "        # encrypt the char and add to cypher text\n",
        "        # convert the calculated value to Characters(chr)\n",
        "        cypher_text += chr((ch ** e) % n)\n",
        "\n",
        "    # Convert Plain Text -> Cypher Text\n",
        "    plain_text = ''\n",
        "    # P = (C ^ d) % n\n",
        "    for ch in cypher_text:\n",
        "        # convert it to ascii\n",
        "        ch = ord(ch)\n",
        "        # decrypt the char and add to plain text\n",
        "        # convert the calculated value to Characters(chr)\n",
        "        plain_text += chr((ch ** d) % n)\n",
        "\n",
        "    return cypher_text, plain_text\n",
        "\n",
        "def find_e(z: int):\n",
        "    # e -> gcd(e,z)==1      ; 1 < e < z\n",
        "    e = 2\n",
        "    while e < z:\n",
        "        # check if this is the required `e` value\n",
        "        if gcd(e, z)==1:\n",
        "            return e\n",
        "        # else : increment and continue\n",
        "        e += 1\n",
        "\n",
        "def find_d(e: int, z: int):\n",
        "    # d -> ed = 1(mod z)        ; 1 < d < z\n",
        "    d = 2\n",
        "    while d < z:\n",
        "        # check if this is the required `d` value\n",
        "        if ((d*e) % z)==1:\n",
        "            return d\n",
        "        # else : increment and continue\n",
        "        d += 1\n",
        "\n",
        "def gcd(x: int, y: int):\n",
        "    # GCD by Euclidean method\n",
        "    small,large = (x,y) if x<y else (y,x)\n",
        "\n",
        "    while small != 0:\n",
        "        temp = large % small\n",
        "        large = small\n",
        "        small = temp\n",
        "\n",
        "    return large\n",
        "\n",
        "\n",
        "#main\n",
        "if __name__ == \"__main__\":\n",
        "    p,q = map(int, input().split())\n",
        "    msg = input()\n",
        "\n",
        "    cypher_text, plain_text = rsa_algo(p, q, msg)\n",
        "\n",
        "    print(\"Encrypted (Cypher text) : \", cypher_text)\n",
        "    print(\"Decrypted (Plain text) : \", plain_text)"
      ]
    },
    {
      "cell_type": "code",
      "source": [
        ""
      ],
      "metadata": {
        "id": "l3HX3hYaMgm6"
      },
      "execution_count": null,
      "outputs": []
    }
  ]
}